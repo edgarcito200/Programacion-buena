{
  "nbformat": 4,
  "nbformat_minor": 0,
  "metadata": {
    "colab": {
      "provenance": [],
      "authorship_tag": "ABX9TyOgGezUx/PKcoC8cV2D6S3B",
      "include_colab_link": true
    },
    "kernelspec": {
      "name": "python3",
      "display_name": "Python 3"
    },
    "language_info": {
      "name": "python"
    }
  },
  "cells": [
    {
      "cell_type": "markdown",
      "metadata": {
        "id": "view-in-github",
        "colab_type": "text"
      },
      "source": [
        "<a href=\"https://colab.research.google.com/github/edgarcito200/Programacion-buena/blob/main/PANDAS.ipynb\" target=\"_parent\"><img src=\"https://colab.research.google.com/assets/colab-badge.svg\" alt=\"Open In Colab\"/></a>"
      ]
    },
    {
      "cell_type": "markdown",
      "source": [
        "El pandas serveix per treballar amb dades, Tenim 3 tipus de estructures.\n",
        "- Series: Estructures d'una dimensio que porten el seu index associats a les segones.\n",
        "- Data Frames: Estructures de dues dimensions.\n",
        "- Panells: Estructures de tres dimensions."
      ],
      "metadata": {
        "id": "cRSuPg-1NleO"
      }
    },
    {
      "cell_type": "code",
      "execution_count": 1,
      "metadata": {
        "colab": {
          "base_uri": "https://localhost:8080/"
        },
        "id": "2xpFmOZOM18w",
        "outputId": "7404259a-f77b-4746-d655-532125b62237"
      },
      "outputs": [
        {
          "output_type": "stream",
          "name": "stdout",
          "text": [
            "Requirement already satisfied: pandas in /usr/local/lib/python3.10/dist-packages (2.2.2)\n",
            "Requirement already satisfied: numpy>=1.22.4 in /usr/local/lib/python3.10/dist-packages (from pandas) (1.26.4)\n",
            "Requirement already satisfied: python-dateutil>=2.8.2 in /usr/local/lib/python3.10/dist-packages (from pandas) (2.8.2)\n",
            "Requirement already satisfied: pytz>=2020.1 in /usr/local/lib/python3.10/dist-packages (from pandas) (2024.2)\n",
            "Requirement already satisfied: tzdata>=2022.7 in /usr/local/lib/python3.10/dist-packages (from pandas) (2024.2)\n",
            "Requirement already satisfied: six>=1.5 in /usr/local/lib/python3.10/dist-packages (from python-dateutil>=2.8.2->pandas) (1.16.0)\n"
          ]
        }
      ],
      "source": [
        "!pip install pandas"
      ]
    },
    {
      "cell_type": "code",
      "source": [
        "!python --version"
      ],
      "metadata": {
        "colab": {
          "base_uri": "https://localhost:8080/"
        },
        "id": "O9cefpz9OliQ",
        "outputId": "3f03c0cc-6b12-4950-f7ab-e9d7ad943a9e"
      },
      "execution_count": 2,
      "outputs": [
        {
          "output_type": "stream",
          "name": "stdout",
          "text": [
            "Python 3.10.12\n"
          ]
        }
      ]
    },
    {
      "cell_type": "code",
      "source": [
        "!apt-get install python3.12"
      ],
      "metadata": {
        "colab": {
          "base_uri": "https://localhost:8080/"
        },
        "id": "LGGWMRxqPEv2",
        "outputId": "8e1be4e2-7ec5-44f7-dd83-c6322fed20f8"
      },
      "execution_count": 3,
      "outputs": [
        {
          "output_type": "stream",
          "name": "stdout",
          "text": [
            "Reading package lists... Done\n",
            "Building dependency tree... Done\n",
            "Reading state information... Done\n",
            "The following additional packages will be installed:\n",
            "  libpython3.12-minimal libpython3.12-stdlib mailcap mime-support python3.12-minimal\n",
            "Suggested packages:\n",
            "  python3.12-venv binfmt-support\n",
            "The following NEW packages will be installed:\n",
            "  libpython3.12-minimal libpython3.12-stdlib mailcap mime-support python3.12 python3.12-minimal\n",
            "0 upgraded, 6 newly installed, 0 to remove and 49 not upgraded.\n",
            "Need to get 5,548 kB of archives.\n",
            "After this operation, 22.8 MB of additional disk space will be used.\n",
            "Get:1 http://archive.ubuntu.com/ubuntu jammy/main amd64 mailcap all 3.70+nmu1ubuntu1 [23.8 kB]\n",
            "Get:2 http://archive.ubuntu.com/ubuntu jammy/main amd64 mime-support all 3.66 [3,696 B]\n",
            "Get:3 https://ppa.launchpadcontent.net/deadsnakes/ppa/ubuntu jammy/main amd64 libpython3.12-minimal amd64 3.12.7-1+jammy1 [880 kB]\n",
            "Get:4 https://ppa.launchpadcontent.net/deadsnakes/ppa/ubuntu jammy/main amd64 python3.12-minimal amd64 3.12.7-1+jammy1 [2,497 kB]\n",
            "Get:5 https://ppa.launchpadcontent.net/deadsnakes/ppa/ubuntu jammy/main amd64 libpython3.12-stdlib amd64 3.12.7-1+jammy1 [2,049 kB]\n",
            "Get:6 https://ppa.launchpadcontent.net/deadsnakes/ppa/ubuntu jammy/main amd64 python3.12 amd64 3.12.7-1+jammy1 [94.7 kB]\n",
            "Fetched 5,548 kB in 13s (414 kB/s)\n",
            "Selecting previously unselected package libpython3.12-minimal:amd64.\n",
            "(Reading database ... 123630 files and directories currently installed.)\n",
            "Preparing to unpack .../0-libpython3.12-minimal_3.12.7-1+jammy1_amd64.deb ...\n",
            "Unpacking libpython3.12-minimal:amd64 (3.12.7-1+jammy1) ...\n",
            "Selecting previously unselected package python3.12-minimal.\n",
            "Preparing to unpack .../1-python3.12-minimal_3.12.7-1+jammy1_amd64.deb ...\n",
            "Unpacking python3.12-minimal (3.12.7-1+jammy1) ...\n",
            "Selecting previously unselected package mailcap.\n",
            "Preparing to unpack .../2-mailcap_3.70+nmu1ubuntu1_all.deb ...\n",
            "Unpacking mailcap (3.70+nmu1ubuntu1) ...\n",
            "Selecting previously unselected package mime-support.\n",
            "Preparing to unpack .../3-mime-support_3.66_all.deb ...\n",
            "Unpacking mime-support (3.66) ...\n",
            "Selecting previously unselected package libpython3.12-stdlib:amd64.\n",
            "Preparing to unpack .../4-libpython3.12-stdlib_3.12.7-1+jammy1_amd64.deb ...\n",
            "Unpacking libpython3.12-stdlib:amd64 (3.12.7-1+jammy1) ...\n",
            "Selecting previously unselected package python3.12.\n",
            "Preparing to unpack .../5-python3.12_3.12.7-1+jammy1_amd64.deb ...\n",
            "Unpacking python3.12 (3.12.7-1+jammy1) ...\n",
            "Setting up libpython3.12-minimal:amd64 (3.12.7-1+jammy1) ...\n",
            "Setting up mailcap (3.70+nmu1ubuntu1) ...\n",
            "Setting up python3.12-minimal (3.12.7-1+jammy1) ...\n",
            "Setting up mime-support (3.66) ...\n",
            "Setting up libpython3.12-stdlib:amd64 (3.12.7-1+jammy1) ...\n",
            "Setting up python3.12 (3.12.7-1+jammy1) ...\n",
            "Processing triggers for man-db (2.10.2-1) ...\n"
          ]
        }
      ]
    },
    {
      "cell_type": "code",
      "source": [
        "import pandas as pd\n",
        "setmana = pd.Series([\"dilluns\", \"dimarts\", \"dimecres\", \"dijous\", \"divendres\", \"dissabte\", \"diumenge\"])\n",
        "setmana_numerada = pd.Series(setmana.values, index=range(7))\n",
        "print(setmana_numerada)\n"
      ],
      "metadata": {
        "colab": {
          "base_uri": "https://localhost:8080/"
        },
        "id": "KmzDqVxLS82N",
        "outputId": "9bfa05e1-3571-42c0-ac43-863e92b5c46e"
      },
      "execution_count": null,
      "outputs": [
        {
          "output_type": "stream",
          "name": "stdout",
          "text": [
            "0      dilluns\n",
            "1      dimarts\n",
            "2     dimecres\n",
            "3       dijous\n",
            "4    divendres\n",
            "5     dissabte\n",
            "6     diumenge\n",
            "dtype: object\n"
          ]
        }
      ]
    },
    {
      "cell_type": "markdown",
      "source": [
        "Fer una sèrie numèrica amb pandas amb els nombres[12 58 63 47 81 35]\n",
        "\n",
        "La llargada de la serie numérica (size)\n",
        "(sum) fer una suma amb els valors anteriors\n",
        "cal que la suma digui l’import total és: sumatori de la suma\n"
      ],
      "metadata": {
        "id": "jQ_A2uLoysc3"
      }
    },
    {
      "cell_type": "code",
      "source": [
        "import pandas as pd\n",
        "numeros = pd.Series([12, 58, 63, 47, 81, 35])\n",
        "longitud = numeros.size\n",
        "suma = numeros.sum()\n",
        "print(f\"La longitud de la serie es: {longitud}\")\n",
        "print(f\"La suma de los valores es: {suma}\")\n",
        "print(f\"El importe total es: {suma}\")"
      ],
      "metadata": {
        "colab": {
          "base_uri": "https://localhost:8080/"
        },
        "id": "6Dg4_nOZyuGJ",
        "outputId": "141b318f-6ace-4303-b7e7-abd88eeb6161"
      },
      "execution_count": 4,
      "outputs": [
        {
          "output_type": "stream",
          "name": "stdout",
          "text": [
            "La longitud de la serie es: 6\n",
            "La suma de los valores es: 296\n",
            "El importe total es: 296\n"
          ]
        }
      ]
    },
    {
      "cell_type": "code",
      "source": [
        "import pandas as pd\n",
        "numeros = pd.Series([12, 58, 63, 47, 81, 35])\n",
        "longitud = numeros.size\n",
        "suma = numeros.sum()\n",
        "promig = numeros.mean()\n",
        "promig_redondejat = round(promig, 2)\n",
        "print(f\"La longitud de la serie es: {longitud}\")\n",
        "print(f\"La suma de los valores es: {suma}\")\n",
        "print(f\"El importe total es: {suma}\")\n",
        "print(f\"El valor promedio es: {promig_redondejat}\")"
      ],
      "metadata": {
        "colab": {
          "base_uri": "https://localhost:8080/"
        },
        "id": "_aY3cf1b2vEy",
        "outputId": "1d4ea696-0499-4b09-db0a-2a7631fc85ec"
      },
      "execution_count": 7,
      "outputs": [
        {
          "output_type": "stream",
          "name": "stdout",
          "text": [
            "La longitud de la serie es: 6\n",
            "La suma de los valores es: 296\n",
            "El importe total es: 296\n",
            "El valor promedio es: 49.33\n"
          ]
        }
      ]
    },
    {
      "cell_type": "code",
      "source": [
        "import pandas as pd\n",
        "numeros = pd.Series([12, 58, 63, 47, 81, 35])\n",
        "longitud = numeros.size\n",
        "suma = numeros.sum()\n",
        "promig = numeros.mean()\n",
        "promig_redondejat = round(promig, 2)\n",
        "maxim = numeros.max()\n",
        "minim = numeros.min()\n",
        "suma_acumulada = numeros.cumsum()\n",
        "print(f\"La longitud de la sèrie és: {longitud}\")\n",
        "print(f\"La suma dels valors és: {suma}\")\n",
        "print(f\"L'import total és: {suma}\")\n",
        "print(f\"El valor promig és: {promig_redondejat}\")\n",
        "print(f\"El valor màxim és: {maxim}\")\n",
        "print(f\"El valor mínim és: {minim}\")\n",
        "print(\"La suma acumulada dels valors és:\")\n",
        "print(suma_acumulada)"
      ],
      "metadata": {
        "colab": {
          "base_uri": "https://localhost:8080/"
        },
        "id": "zCiUVGHi5b6v",
        "outputId": "97f9d88e-9953-4702-ff2d-48fa58cd537f"
      },
      "execution_count": 8,
      "outputs": [
        {
          "output_type": "stream",
          "name": "stdout",
          "text": [
            "La longitud de la sèrie és: 6\n",
            "La suma dels valors és: 296\n",
            "L'import total és: 296\n",
            "El valor promig és: 49.33\n",
            "El valor màxim és: 81\n",
            "El valor mínim és: 12\n",
            "La suma acumulada dels valors és:\n",
            "0     12\n",
            "1     70\n",
            "2    133\n",
            "3    180\n",
            "4    261\n",
            "5    296\n",
            "dtype: int64\n"
          ]
        }
      ]
    }
  ]
}