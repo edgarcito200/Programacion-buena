{
  "nbformat": 4,
  "nbformat_minor": 0,
  "metadata": {
    "colab": {
      "provenance": [],
      "authorship_tag": "ABX9TyNytJvpnjExyzYimKcbLZHW",
      "include_colab_link": true
    },
    "kernelspec": {
      "name": "python3",
      "display_name": "Python 3"
    },
    "language_info": {
      "name": "python"
    }
  },
  "cells": [
    {
      "cell_type": "markdown",
      "metadata": {
        "id": "view-in-github",
        "colab_type": "text"
      },
      "source": [
        "<a href=\"https://colab.research.google.com/github/edgarcito200/Programacion-buena/blob/main/proves1_eo.ipynb\" target=\"_parent\"><img src=\"https://colab.research.google.com/assets/colab-badge.svg\" alt=\"Open In Colab\"/></a>"
      ]
    },
    {
      "cell_type": "code",
      "execution_count": null,
      "metadata": {
        "colab": {
          "base_uri": "https://localhost:8080/"
        },
        "id": "2y4EL-TIjQre",
        "outputId": "59c983d6-21d5-43cb-bbc1-366eef0dc399"
      },
      "outputs": [
        {
          "output_type": "stream",
          "name": "stdout",
          "text": [
            "7\n"
          ]
        }
      ],
      "source": [
        "dies_de_la_setmana=7\n",
        "print (dies_de_la_setmana)\n"
      ]
    },
    {
      "cell_type": "markdown",
      "source": [
        "Un fabricant ven 48 cuines a 93 € una. Cobra 37 euros pel transport. Quant haurà cobrat en total?"
      ],
      "metadata": {
        "id": "PTzzXBeqkiNs"
      }
    },
    {
      "cell_type": "code",
      "source": [
        "numero_cuines=48\n",
        "preu_per_cuina=93\n",
        "cost_transport=37\n",
        "total_cuines=numero_cuines*preu_per_cuina\n",
        "total_amb_transport=total_cuines+cost_transport\n",
        "print ('el fabricant haurà cobrat un total de',total_amb_transport)\n"
      ],
      "metadata": {
        "colab": {
          "base_uri": "https://localhost:8080/"
        },
        "id": "mze4AREClte7",
        "outputId": "1f64b50e-a312-4144-d54a-d6e3a068727e"
      },
      "execution_count": null,
      "outputs": [
        {
          "output_type": "stream",
          "name": "stdout",
          "text": [
            "el fabricant haurà cobrat un total de 4501\n"
          ]
        }
      ]
    },
    {
      "cell_type": "code",
      "source": [
        "\n",
        "guardiola1 = 120\n",
        "guardiola2 = 215\n",
        "guardiola3 = 163\n",
        "total_euros = guardiola1 + guardiola2 + guardiola3\n",
        "num_personas = 6\n",
        "euros_por_persona = total_euros / num_personas\n",
        "print (f'El total de euros es:',total_euros)\n",
        "print (\"El total de euros es:\",total_euros)\n",
        "print ('El total de euros es:',total_euros)\n"
      ],
      "metadata": {
        "id": "EnWEqEmNlZI4",
        "colab": {
          "base_uri": "https://localhost:8080/"
        },
        "outputId": "39bb39ae-25a5-432c-a67a-7d278088a8a2"
      },
      "execution_count": null,
      "outputs": [
        {
          "output_type": "stream",
          "name": "stdout",
          "text": [
            "El total de euros es: 498\n",
            "El total de euros es: 498\n",
            "El total de euros es: 498\n"
          ]
        }
      ]
    },
    {
      "cell_type": "code",
      "source": [
        "pes_pallasso = 112\n",
        "pes_nina = 75\n",
        "num_pallassos = int(input(\"Introdueix el nombre de pallassos venuts: \"))\n",
        "num_nines = int(input(\"Introdueix el nombre de nines venudes: \"))\n",
        "pes_total = (num_pallassos * pes_pallasso) + (num_nines * pes_nina)\n",
        "preu_total = float(input(\"Introdueix el preu total de la comanda: \"))\n",
        "print(\"\\nResum de la comanda:\")\n",
        "print(f\"Nombre de pallassos: {num_pallassos}\")\n",
        "print(f\"Nombre de nines: {num_nines}\")\n",
        "print(f\"Pes total de la comanda: {pes_total} grams\")\n",
        "print(f\"Preu total de la comanda: {preu_total:.2f} €\")"
      ],
      "metadata": {
        "id": "yp9xUAmls8j8"
      },
      "execution_count": null,
      "outputs": []
    },
    {
      "cell_type": "code",
      "source": [],
      "metadata": {
        "id": "f-_dIw2TNmf_"
      },
      "execution_count": null,
      "outputs": []
    }
  ]
}