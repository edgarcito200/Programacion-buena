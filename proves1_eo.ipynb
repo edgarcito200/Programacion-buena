{
  "nbformat": 4,
  "nbformat_minor": 0,
  "metadata": {
    "colab": {
      "provenance": [],
      "authorship_tag": "ABX9TyO5K+TCDd4iny65AUhdZGcq",
      "include_colab_link": true
    },
    "kernelspec": {
      "name": "python3",
      "display_name": "Python 3"
    },
    "language_info": {
      "name": "python"
    }
  },
  "cells": [
    {
      "cell_type": "markdown",
      "metadata": {
        "id": "view-in-github",
        "colab_type": "text"
      },
      "source": [
        "<a href=\"https://colab.research.google.com/github/edgarcito200/Programacion-buena/blob/main/proves1_eo.ipynb\" target=\"_parent\"><img src=\"https://colab.research.google.com/assets/colab-badge.svg\" alt=\"Open In Colab\"/></a>"
      ]
    },
    {
      "cell_type": "code",
      "execution_count": null,
      "metadata": {
        "colab": {
          "base_uri": "https://localhost:8080/"
        },
        "id": "2y4EL-TIjQre",
        "outputId": "59c983d6-21d5-43cb-bbc1-366eef0dc399"
      },
      "outputs": [
        {
          "output_type": "stream",
          "name": "stdout",
          "text": [
            "7\n"
          ]
        }
      ],
      "source": [
        "dies_de_la_setmana=7\n",
        "print (dies_de_la_setmana)\n"
      ]
    },
    {
      "cell_type": "markdown",
      "source": [
        "Un fabricant ven 48 cuines a 93 € una. Cobra 37 euros pel transport. Quant haurà cobrat en total?"
      ],
      "metadata": {
        "id": "PTzzXBeqkiNs"
      }
    },
    {
      "cell_type": "code",
      "source": [
        "numero_cuines=48\n",
        "preu_per_cuina=93\n",
        "cost_transport=37\n",
        "total_cuines=numero_cuines*preu_per_cuina\n",
        "total_amb_transport=total_cuines+cost_transport\n",
        "print ('el fabricant haurà cobrat un total de',total_amb_transport)\n"
      ],
      "metadata": {
        "colab": {
          "base_uri": "https://localhost:8080/"
        },
        "id": "mze4AREClte7",
        "outputId": "1f64b50e-a312-4144-d54a-d6e3a068727e"
      },
      "execution_count": null,
      "outputs": [
        {
          "output_type": "stream",
          "name": "stdout",
          "text": [
            "el fabricant haurà cobrat un total de 4501\n"
          ]
        }
      ]
    },
    {
      "cell_type": "markdown",
      "source": [
        "# En una guardiola hi ha 120 euros; en una altra hi ha 215 i en una tercera 163. Si repartim els euros entre 6 persones, quants en toquen a cada una?"
      ],
      "metadata": {
        "id": "4LDXMYm7S9wV"
      }
    },
    {
      "cell_type": "code",
      "source": [
        "\n",
        "guardiola1 = 120\n",
        "guardiola2 = 215\n",
        "guardiola3 = 163\n",
        "total_euros = guardiola1 + guardiola2 + guardiola3\n",
        "num_personas = 6\n",
        "euros_por_persona = total_euros / num_personas\n",
        "print (f'El total de euros es:',total_euros)\n",
        "print (\"El total de euros es:\",total_euros)\n",
        "print ('El total de euros es:',total_euros)\n"
      ],
      "metadata": {
        "id": "EnWEqEmNlZI4",
        "colab": {
          "base_uri": "https://localhost:8080/"
        },
        "outputId": "39bb39ae-25a5-432c-a67a-7d278088a8a2"
      },
      "execution_count": null,
      "outputs": [
        {
          "output_type": "stream",
          "name": "stdout",
          "text": [
            "El total de euros es: 498\n",
            "El total de euros es: 498\n",
            "El total de euros es: 498\n"
          ]
        }
      ]
    },
    {
      "cell_type": "markdown",
      "source": [
        "Una juguetería tiene mucho éxito en dos de sus productos: payasos y muñecas. Suele hacer venta por correo y la empresa de logística les cobra por peso de cada paquete así que deben calcular el peso de los payasos y muñecas que saldrán en cada paquete a demanda. Cada payaso pesa 112 g y cada muñeca 75 g. Escribir un programa que lea el número de payasos y muñecas vendidos en el último pedido y calcule el peso total del paquete que será enviado."
      ],
      "metadata": {
        "id": "5R5ryNS7TK0g"
      }
    },
    {
      "cell_type": "code",
      "source": [
        "pes_pallasso = 112\n",
        "pes_nina = 75\n",
        "num_pallassos = int(input(\"Introdueix el nombre de pallassos venuts: \"))\n",
        "num_nines = int(input(\"Introdueix el nombre de nines venudes: \"))\n",
        "pes_total = (num_pallassos * pes_pallasso) + (num_nines * pes_nina)\n",
        "preu_total = float(input(\"Introdueix el preu total de la comanda: \"))\n",
        "print(\"\\nResum de la comanda:\")\n",
        "print(f\"Nombre de pallassos: {num_pallassos}\")\n",
        "print(f\"Nombre de nines: {num_nines}\")\n",
        "print(f\"Pes total de la comanda: {pes_total} grams\")\n",
        "print(f\"Preu total de la comanda: {preu_total:.2f} €\")"
      ],
      "metadata": {
        "id": "yp9xUAmls8j8",
        "colab": {
          "base_uri": "https://localhost:8080/"
        },
        "outputId": "a99d177b-9c6e-4072-ddff-3499acebe30f"
      },
      "execution_count": 2,
      "outputs": [
        {
          "output_type": "stream",
          "name": "stdout",
          "text": [
            "Introdueix el nombre de pallassos venuts: 34\n",
            "Introdueix el nombre de nines venudes: 55\n",
            "Introdueix el preu total de la comanda: 34\n",
            "\n",
            "Resum de la comanda:\n",
            "Nombre de pallassos: 34\n",
            "Nombre de nines: 55\n",
            "Pes total de la comanda: 7933 grams\n",
            "Preu total de la comanda: 34.00 €\n"
          ]
        }
      ]
    },
    {
      "cell_type": "code",
      "source": [
        "total_castanyes_torrades=250\n",
        "ven=(17*12)+9\n",
        "print (ven)\n",
        "total=total_castanyes_torrades-ven\n",
        "print(total)\n",
        "print(\"Li queden per vendre\", total, \"castanyes\")"
      ],
      "metadata": {
        "id": "f-_dIw2TNmf_"
      },
      "execution_count": null,
      "outputs": []
    },
    {
      "cell_type": "code",
      "source": [
        "ramader_guanya=2850\n",
        "ramader_guarda=700\n",
        "ramader_compra_5_vaques=(ramader_guanya - ramader_guarda)/5\n",
        "print(ramader_compra_5_vaques)\n",
        "print(\"Cada vaca li ha costat\", ramader_compra_5_vaques, \"euros\")"
      ],
      "metadata": {
        "id": "dJd2eeA8Syn5"
      },
      "execution_count": null,
      "outputs": []
    },
    {
      "cell_type": "code",
      "source": [
        "print(\"Hola món!\")\n",
        "valor = input(\"Introduir un valor: \")\n",
        "if valor.replace('.', '').isdigit():\n",
        "    print(\"Has introduït un número.\")\n",
        "else:\n",
        "    print(\"El valor de nines és:\", valor)\n",
        "llibres = 5\n",
        "preu_llibre = 10\n",
        "total = llibres * preu_llibre\n",
        "print(f\"El total és: {total} euros\")"
      ],
      "metadata": {
        "colab": {
          "base_uri": "https://localhost:8080/"
        },
        "id": "QYK3SDuNUam5",
        "outputId": "de8d821d-05ff-494d-efbc-95750a7e015e"
      },
      "execution_count": 4,
      "outputs": [
        {
          "output_type": "stream",
          "name": "stdout",
          "text": [
            "Hola món!\n",
            "Introduir un valor: 98\n",
            "Has introduït un número.\n",
            "El total és: 50 euros\n"
          ]
        }
      ]
    },
    {
      "cell_type": "code",
      "source": [],
      "metadata": {
        "id": "5UUiOiirVKmp"
      },
      "execution_count": null,
      "outputs": []
    }
  ]
}