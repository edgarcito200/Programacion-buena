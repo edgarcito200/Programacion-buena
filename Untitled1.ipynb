{
  "nbformat": 4,
  "nbformat_minor": 0,
  "metadata": {
    "colab": {
      "provenance": [],
      "authorship_tag": "ABX9TyO34+QF1bqi0BzuXUbZrkTO",
      "include_colab_link": true
    },
    "kernelspec": {
      "name": "python3",
      "display_name": "Python 3"
    },
    "language_info": {
      "name": "python"
    }
  },
  "cells": [
    {
      "cell_type": "markdown",
      "metadata": {
        "id": "view-in-github",
        "colab_type": "text"
      },
      "source": [
        "<a href=\"https://colab.research.google.com/github/edgarcito200/Programacion-buena/blob/main/Untitled1.ipynb\" target=\"_parent\"><img src=\"https://colab.research.google.com/assets/colab-badge.svg\" alt=\"Open In Colab\"/></a>"
      ]
    },
    {
      "cell_type": "markdown",
      "source": [
        "4 variables que se sumin entre elles i fes la mitjana"
      ],
      "metadata": {
        "id": "Y3AX6fAsSPgz"
      }
    },
    {
      "cell_type": "code",
      "execution_count": null,
      "metadata": {
        "colab": {
          "base_uri": "https://localhost:8080/"
        },
        "id": "H_fqTpjGSEw1",
        "outputId": "e5cafc4d-7399-49aa-9377-a0a7a4614d38"
      },
      "outputs": [
        {
          "output_type": "stream",
          "name": "stdout",
          "text": [
            "Introduce el primer número: 33\n",
            "Introduce el segundo número: 33\n",
            "Introduce el tercer número: 33\n",
            "Introduce el cuarto número: 33\n",
            "La suma de las variables es: 132.0\n",
            "La media de las variables es: 33.0\n"
          ]
        }
      ],
      "source": [
        "a = float(input(\"Introduce el primer número: \"))\n",
        "b = float(input(\"Introduce el segundo número: \"))\n",
        "c = float(input(\"Introduce el tercer número: \"))\n",
        "d = float(input(\"Introduce el cuarto número: \"))\n",
        "suma = a + b + c + d\n",
        "media = suma / 4\n",
        "print(f\"La suma de las variables es: {suma}\")\n",
        "print(f\"La media de las variables es: {media}\")"
      ]
    },
    {
      "cell_type": "markdown",
      "source": [
        "1. fes una variable que pregunti el sou d’una persona, i si el seu sou és superior als 2000€, cal que es mostri un misatge a la pantalla que digui “que a de pagar un 15% IRPF”\n"
      ],
      "metadata": {
        "id": "tElknqEKYYxl"
      }
    },
    {
      "cell_type": "code",
      "source": [
        "sou = float(input(\"Introdueix el teu sou mensual en euros: \"))\n",
        "if sou > 2000:\n",
        "    print(\"Has de pagar un 15% d'IRPF.\")"
      ],
      "metadata": {
        "id": "7G8dnSp_XJoo",
        "colab": {
          "base_uri": "https://localhost:8080/"
        },
        "outputId": "8cf5e4a6-f282-4cec-a4e1-97166e2a8045"
      },
      "execution_count": null,
      "outputs": [
        {
          "output_type": "stream",
          "name": "stdout",
          "text": [
            "Introdueix el teu sou mensual en euros: 3333\n",
            "Has de pagar un 15% d'IRPF.\n"
          ]
        }
      ]
    },
    {
      "cell_type": "markdown",
      "source": [
        " 2. heu de posar dues variables amb valors diferents i cal que surti a la pantalla el que es superior\n"
      ],
      "metadata": {
        "id": "e54WagTfYdWe"
      }
    },
    {
      "cell_type": "code",
      "source": [
        "variable1 = 15\n",
        "variable2 = 23\n",
        "if variable1 > variable2:\n",
        "    print(f\"{variable1} és superior a {variable2}\")\n",
        "elif variable2 > variable1:\n",
        "    print(f\"{variable2} és superior a {variable1}\")\n",
        "else:\n",
        "    print(f\"{variable1} i {variable2} són iguals\")"
      ],
      "metadata": {
        "colab": {
          "base_uri": "https://localhost:8080/"
        },
        "id": "zkprF8IbYbuV",
        "outputId": "d1d94120-bc2e-4967-803d-caa34a6d43bb"
      },
      "execution_count": null,
      "outputs": [
        {
          "output_type": "stream",
          "name": "stdout",
          "text": [
            "23 és superior a 15\n"
          ]
        }
      ]
    },
    {
      "cell_type": "markdown",
      "source": [
        "3. imaginemos que teniu una nómina de 2950€ cal que feu que pagui a l’estat un 20% d’impostos. Un cop hagi fet això, cal que pagueu les factures del gas (70€) i l’aigua (55€). A banda, cal pagar el pis  (1000€) cuants diners le quedaran a aquesta persona per"
      ],
      "metadata": {
        "id": "A17asNufYtwI"
      }
    },
    {
      "cell_type": "code",
      "source": [
        "nomina = 2950\n",
        "impostos = nomina * 0.20\n",
        "nomina_despres_impostos = nomina - impostos\n",
        "factura_gas = 70\n",
        "factura_aigua = 55\n",
        "lloguer_pis = 1000\n",
        "diners_restants = nomina_despres_impostos - factura_gas - factura_aigua - lloguer_pis\n",
        "print(f\"Nòmina inicial: {nomina}€\")\n",
        "print(f\"Impostos pagats (20%): {impostos}€\")\n",
        "print(f\"Despeses:\")\n",
        "print(f\"- Gas: {factura_gas}€\")\n",
        "print(f\"- Aigua: {factura_aigua}€\")\n",
        "print(f\"- Lloguer del pis: {lloguer_pis}€\")\n",
        "print(f\"Diners restants: {diners_restants}€\")"
      ],
      "metadata": {
        "colab": {
          "base_uri": "https://localhost:8080/"
        },
        "id": "VbDG3zvkYuMm",
        "outputId": "020d2944-6dc1-48d3-95b0-04b2005962ea"
      },
      "execution_count": null,
      "outputs": [
        {
          "output_type": "stream",
          "name": "stdout",
          "text": [
            "Nòmina inicial: 2950€\n",
            "Impostos pagats (20%): 590.0€\n",
            "Despeses:\n",
            "- Gas: 70€\n",
            "- Aigua: 55€\n",
            "- Lloguer del pis: 1000€\n",
            "Diners restants: 1235.0€\n"
          ]
        }
      ]
    },
    {
      "cell_type": "markdown",
      "source": [],
      "metadata": {
        "id": "mS-DuHWXx4_y"
      }
    },
    {
      "cell_type": "markdown",
      "source": [
        "Li heu de demanar a un alumne que et doni 3 notes, que calculi a mitjana de les 3 notes. Si es més gran o igual que 7, que supera la metria,\n",
        "si esta entre 4 i 7, que vigili, i\n",
        "si esta per sota de 4 que ha suspes i que ha d’intentar recuperar\n",
        "\n"
      ],
      "metadata": {
        "id": "QfcSwGxHyCoJ"
      }
    },
    {
      "cell_type": "code",
      "source": [
        "nota1 = float(input(\"Introdueix la primera nota: \"))\n",
        "nota2 = float(input(\"Introdueix la segona nota: \"))\n",
        "nota3 = float(input(\"Introdueix la tercera nota: \"))\n",
        "mitjana = (nota1 + nota2 + nota3) / 3\n",
        "print(f\"La teva mitjana és: {mitjana:.2f}\")\n",
        "if mitjana >= 7:\n",
        "    print(\"Felicitats! Has superat la matèria.\")\n",
        "elif 4 <= mitjana < 7:\n",
        "    print(\"Compte! Has de vigilar i millorar.\")\n",
        "else:\n",
        "    print(\"Has suspès. Hauràs d'intentar recuperar la matèria.\")"
      ],
      "metadata": {
        "id": "2SqxhN21x4ss"
      },
      "execution_count": null,
      "outputs": []
    },
    {
      "cell_type": "markdown",
      "source": [
        "li demanem tres numeros random, i ens ha de mostrar el superior en pantalla. (dificil=cadena gran petit)\n"
      ],
      "metadata": {
        "id": "GaOJO3mayDo5"
      }
    },
    {
      "cell_type": "code",
      "source": [
        "num1 = float(input(\"Introdueix el primer número: \"))\n",
        "num2 = float(input(\"Introdueix el segon número: \"))\n",
        "num3 = float(input(\"Introdueix el tercer número: \"))\n",
        "numero_mes_gran = max(num1, num2, num3)\n",
        "print(f\"El número més gran és: {numero_mes_gran}\")\n",
        "numeros_ordenats = sorted([num1, num2, num3], reverse=True)\n",
        "print(\"Els números ordenats de gran a petit són:\")\n",
        "for num in numeros_ordenats:\n",
        "    print(num)"
      ],
      "metadata": {
        "id": "2MILwW5HyENz",
        "outputId": "73d7694b-0c1d-465d-8da2-c8ed15b65e18",
        "colab": {
          "base_uri": "https://localhost:8080/"
        }
      },
      "execution_count": null,
      "outputs": [
        {
          "output_type": "stream",
          "name": "stdout",
          "text": [
            "Introdueix el primer número: 2\n",
            "Introdueix el segon número: 3\n",
            "Introdueix el tercer número: 2\n",
            "El número més gran és: 3.0\n",
            "Els números ordenats de gran a petit són:\n",
            "3.0\n",
            "2.0\n",
            "2.0\n"
          ]
        }
      ]
    },
    {
      "cell_type": "markdown",
      "source": [
        "us ha de demanar que posem un valor, i que ens digui si es postiu, negatiu o 0\n",
        "\n"
      ],
      "metadata": {
        "id": "mnCE7UtYyaol"
      }
    },
    {
      "cell_type": "code",
      "source": [
        "valor = float(input(\"Introdueix un valor: \"))\n",
        "if valor > 0:\n",
        "    print(\"El valor és positiu.\")\n",
        "elif valor < 0:\n",
        "    print(\"El valor és negatiu.\")\n",
        "else:\n",
        "    print(\"El valor és zero.\")"
      ],
      "metadata": {
        "id": "EDrlPrecyaHs"
      },
      "execution_count": null,
      "outputs": []
    },
    {
      "cell_type": "markdown",
      "source": [
        "Generador de contrasenyes --> 7 condicionants"
      ],
      "metadata": {
        "id": "dOtKZDuyriLE"
      }
    },
    {
      "cell_type": "code",
      "source": [
        "import random\n",
        "import string\n",
        "def genera_contrasenya():\n",
        "    caracters = string.ascii_letters + string.digits + \"@#$%&*!\"\n",
        "    return ''.join(random.choice(caracters) for _ in range(12))\n",
        "print(\"Contrasenya generada:\", genera_contrasenya())\n",
        "for i in range(7):\n",
        "    print(f\"Contrasenya {i+1}: {genera_contrasenya()}\")"
      ],
      "metadata": {
        "colab": {
          "base_uri": "https://localhost:8080/"
        },
        "id": "wF6UQOO-rpFz",
        "outputId": "09dd1437-74a2-476a-b8f5-91a905f9d602"
      },
      "execution_count": null,
      "outputs": [
        {
          "output_type": "stream",
          "name": "stdout",
          "text": [
            "Contrasenya generada: BAY1r3JTC77x\n",
            "Contrasenya 1: dK@7mdygR4Sl\n",
            "Contrasenya 2: 2VPKmPgNF5@x\n",
            "Contrasenya 3: Vq9CNmZye*pJ\n",
            "Contrasenya 4: wweLQV&j7PDT\n",
            "Contrasenya 5: 2gMbrfAKhWX7\n",
            "Contrasenya 6: JWY3E37K$r!W\n",
            "Contrasenya 7: OrHdS#oAcrhA\n"
          ]
        }
      ]
    }
  ]
}